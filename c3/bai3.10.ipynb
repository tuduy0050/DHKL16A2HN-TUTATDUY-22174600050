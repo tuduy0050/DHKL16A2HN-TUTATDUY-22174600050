{
 "cells": [
  {
   "cell_type": "code",
   "execution_count": 1,
   "metadata": {},
   "outputs": [],
   "source": [
    "import pandas as pd\n"
   ]
  },
  {
   "cell_type": "markdown",
   "metadata": {},
   "source": [
    "Phần 1:"
   ]
  },
  {
   "cell_type": "code",
   "execution_count": null,
   "metadata": {},
   "outputs": [],
   "source": [
    "# Đọc dữ liệu từ tập tin drinks.csv\n",
    "drink = pd.read_csv('drinks.csv', index_col=0)"
   ]
  },
  {
   "cell_type": "code",
   "execution_count": null,
   "metadata": {},
   "outputs": [],
   "source": [
    "# Hiển thị thông tin của drink\n",
    "print(\"Type of drink:\", type(drink))\n",
    "print(\"Shape of drink:\", drink.shape)\n",
    "print(\"Columns of drink:\", drink.columns)\n",
    "print(\"\\nHead of drink:\")\n",
    "print(drink.head())\n",
    "print(\"\\nTail of drink:\")\n",
    "print(drink.tail())"
   ]
  },
  {
   "cell_type": "markdown",
   "metadata": {},
   "source": [
    "Phần 2:"
   ]
  },
  {
   "cell_type": "code",
   "execution_count": 3,
   "metadata": {},
   "outputs": [
    {
     "name": "stdout",
     "output_type": "stream",
     "text": [
      "\n",
      "Số lượng bia tiêu thụ trung bình ở mỗi châu lục:\n",
      " continent\n",
      "AF     61.471698\n",
      "AS     37.045455\n",
      "EU    193.777778\n",
      "OC     89.687500\n",
      "SA    175.083333\n",
      "Name: beer_servings, dtype: float64\n"
     ]
    }
   ],
   "source": [
    "# Số lượng bia tiêu thụ trung bình ở mỗi châu lục\n",
    "beer_mean = drink.groupby('continent')['beer_servings'].mean()\n",
    "print(\"\\nSố lượng bia tiêu thụ trung bình ở mỗi châu lục:\\n\", beer_mean)"
   ]
  },
  {
   "cell_type": "markdown",
   "metadata": {},
   "source": [
    "Phần 3:"
   ]
  },
  {
   "cell_type": "code",
   "execution_count": 4,
   "metadata": {},
   "outputs": [
    {
     "name": "stdout",
     "output_type": "stream",
     "text": [
      "\n",
      "Thông tin thống kê tổng quát về số lượng rượu vang tiêu thụ ở mỗi châu lục:\n",
      "            count        mean        std  min   25%    50%     75%    max\n",
      "continent                                                               \n",
      "AF          53.0   16.264151  38.846419  0.0   1.0    2.0   13.00  233.0\n",
      "AS          44.0    9.068182  21.667034  0.0   0.0    1.0    8.00  123.0\n",
      "EU          45.0  142.222222  97.421738  0.0  59.0  128.0  195.00  370.0\n",
      "OC          16.0   35.625000  64.555790  0.0   1.0    8.5   23.25  212.0\n",
      "SA          12.0   62.416667  88.620189  1.0   3.0   12.0   98.50  221.0\n"
     ]
    }
   ],
   "source": [
    "# Thông tin thống kê tổng quát về số lượng rượu vang tiêu thụ ở mỗi châu lục\n",
    "wine_describe = drink.groupby('continent')['wine_servings'].describe()\n",
    "print(\"\\nThông tin thống kê tổng quát về số lượng rượu vang tiêu thụ ở mỗi châu lục:\\n\", wine_describe)"
   ]
  },
  {
   "cell_type": "markdown",
   "metadata": {},
   "source": [
    "Phần 4:"
   ]
  },
  {
   "cell_type": "code",
   "execution_count": 5,
   "metadata": {},
   "outputs": [
    {
     "name": "stdout",
     "output_type": "stream",
     "text": [
      "\n",
      "Số lượng các loại bia và rượu tiêu thụ trung bình ở mỗi châu lục:\n",
      "            beer_servings  spirit_servings  wine_servings\n",
      "continent                                               \n",
      "AF             61.471698        16.339623      16.264151\n",
      "AS             37.045455        60.840909       9.068182\n",
      "EU            193.777778       132.555556     142.222222\n",
      "OC             89.687500        58.437500      35.625000\n",
      "SA            175.083333       114.750000      62.416667\n"
     ]
    }
   ],
   "source": [
    "# Số lượng các loại bia và rượu tiêu thụ trung bình ở mỗi châu lục\n",
    "mean_drinks = drink.groupby('continent')[['beer_servings', 'spirit_servings', 'wine_servings']].mean()\n",
    "print(\"\\nSố lượng các loại bia và rượu tiêu thụ trung bình ở mỗi châu lục:\\n\", mean_drinks)"
   ]
  },
  {
   "cell_type": "markdown",
   "metadata": {},
   "source": [
    "Phần 5:"
   ]
  },
  {
   "cell_type": "code",
   "execution_count": 6,
   "metadata": {},
   "outputs": [
    {
     "name": "stdout",
     "output_type": "stream",
     "text": [
      "\n",
      "Giá trị trung vị cho các loại bia và rượu tiêu thụ ở mỗi châu lục:\n",
      "            beer_servings  spirit_servings  wine_servings\n",
      "continent                                               \n",
      "AF                  32.0              3.0            2.0\n",
      "AS                  17.5             16.0            1.0\n",
      "EU                 219.0            122.0          128.0\n",
      "OC                  52.5             37.0            8.5\n",
      "SA                 162.5            108.5           12.0\n"
     ]
    }
   ],
   "source": [
    "# Giá trị trung vị cho các loại bia và rượu tiêu thụ ở mỗi châu lục\n",
    "median_drinks = drink.groupby('continent')[['beer_servings', 'spirit_servings', 'wine_servings']].median()\n",
    "print(\"\\nGiá trị trung vị cho các loại bia và rượu tiêu thụ ở mỗi châu lục:\\n\", median_drinks)"
   ]
  },
  {
   "cell_type": "markdown",
   "metadata": {},
   "source": [
    "Phần 6:"
   ]
  },
  {
   "cell_type": "code",
   "execution_count": 7,
   "metadata": {},
   "outputs": [
    {
     "name": "stdout",
     "output_type": "stream",
     "text": [
      "\n",
      "Số lượng rượu mạnh tiêu thụ trung bình, lớn nhất và nhỏ nhất ở mỗi châu lục:\n",
      "                  mean  max  min\n",
      "continent                      \n",
      "AF          16.339623  152    0\n",
      "AS          60.840909  326    0\n",
      "EU         132.555556  373    0\n",
      "OC          58.437500  254    0\n",
      "SA         114.750000  302   25\n"
     ]
    }
   ],
   "source": [
    "# Số lượng rượu mạnh tiêu thụ trung bình, lớn nhất và nhỏ nhất ở mỗi châu lục\n",
    "spirit_stats = drink.groupby('continent')['spirit_servings'].agg(['mean', 'max', 'min'])\n",
    "print(\"\\nSố lượng rượu mạnh tiêu thụ trung bình, lớn nhất và nhỏ nhất ở mỗi châu lục:\\n\", spirit_stats)"
   ]
  },
  {
   "cell_type": "markdown",
   "metadata": {},
   "source": [
    "Phần 7:"
   ]
  },
  {
   "cell_type": "code",
   "execution_count": 8,
   "metadata": {},
   "outputs": [
    {
     "name": "stdout",
     "output_type": "stream",
     "text": [
      "\n",
      "5 quốc gia có lượng tiêu thụ bia nhiều nhất:\n",
      "                 beer_servings  spirit_servings  wine_servings  \\\n",
      "country                                                         \n",
      "Namibia                   376                3              1   \n",
      "Czech Republic            361              170            134   \n",
      "Gabon                     347               98             59   \n",
      "Germany                   346              117            175   \n",
      "Lithuania                 343              244             56   \n",
      "\n",
      "                total_litres_of_pure_alcohol continent  \n",
      "country                                                 \n",
      "Namibia                                  6.8        AF  \n",
      "Czech Republic                          11.8        EU  \n",
      "Gabon                                    8.9        AF  \n",
      "Germany                                 11.3        EU  \n",
      "Lithuania                               12.9        EU  \n",
      "\n",
      "5 quốc gia có lượng tiêu thụ bia ít nhất:\n",
      "              beer_servings  spirit_servings  wine_servings  \\\n",
      "country                                                      \n",
      "Mauritania               0                0              0   \n",
      "Somalia                  0                0              0   \n",
      "Monaco                   0                0              0   \n",
      "Pakistan                 0                0              0   \n",
      "Afghanistan              0                0              0   \n",
      "\n",
      "             total_litres_of_pure_alcohol continent  \n",
      "country                                              \n",
      "Mauritania                            0.0        AF  \n",
      "Somalia                               0.0        AF  \n",
      "Monaco                                0.0        EU  \n",
      "Pakistan                              0.0        AS  \n",
      "Afghanistan                           0.0        AS  \n"
     ]
    }
   ],
   "source": [
    "# Sắp xếp dữ liệu tăng dần theo số lượng bia tiêu thụ\n",
    "sorted_beer = drink.sort_values(by='beer_servings', ascending=False)\n",
    "print(\"\\n5 quốc gia có lượng tiêu thụ bia nhiều nhất:\\n\", sorted_beer.head())\n",
    "print(\"\\n5 quốc gia có lượng tiêu thụ bia ít nhất:\\n\", sorted_beer.tail())"
   ]
  }
 ],
 "metadata": {
  "kernelspec": {
   "display_name": "Python 3",
   "language": "python",
   "name": "python3"
  },
  "language_info": {
   "codemirror_mode": {
    "name": "ipython",
    "version": 3
   },
   "file_extension": ".py",
   "mimetype": "text/x-python",
   "name": "python",
   "nbconvert_exporter": "python",
   "pygments_lexer": "ipython3",
   "version": "3.11.4"
  }
 },
 "nbformat": 4,
 "nbformat_minor": 2
}
